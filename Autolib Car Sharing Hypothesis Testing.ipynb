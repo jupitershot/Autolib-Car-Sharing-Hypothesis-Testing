{
 "cells": [
  {
   "cell_type": "markdown",
   "metadata": {
    "slideshow": {
     "slide_type": "slide"
    }
   },
   "source": [
    "# Autolib Car Sharing Hypothesis Testing\n",
    "\n",
    "## Requirement\n",
    "1. Find and deal with outliers, anomalies, and missing data within the dataset.\n",
    "\n",
    "2. Plot appropriate univariate and bivariate summaries recording our observations.\n",
    "\n",
    "3. Implement the solution by performing hypothesis testing.\n"
   ]
  },
  {
   "cell_type": "markdown",
   "metadata": {},
   "source": [
    "## 1.0 Import Libraries and Data"
   ]
  },
  {
   "cell_type": "code",
   "execution_count": 219,
   "metadata": {},
   "outputs": [],
   "source": [
    "#Import Python Libraries\n",
    "import pandas as pd\n",
    "import numpy as np\n",
    "import matplotlib.pyplot as plt\n",
    "import seaborn as sns\n",
    "from scipy import stats #For z test Calculation\n",
    "from statsmodels.stats import weightstats as stests #For z test calculation\n",
    "# import pandas_profiling as pp\n",
    "import warnings\n",
    "warnings.simplefilter(action='ignore', category=FutureWarning)"
   ]
  },
  {
   "cell_type": "code",
   "execution_count": 220,
   "metadata": {
    "collapsed": true
   },
   "outputs": [],
   "source": [
    "#Increase number of rows and columns displayed\n",
    "pd.set_option('display.max_rows', 500)\n",
    "pd.set_option('display.max_columns', 500)\n",
    "pd.set_option('display.width', 1000)"
   ]
  },
  {
   "cell_type": "code",
   "execution_count": 221,
   "metadata": {
    "collapsed": true
   },
   "outputs": [],
   "source": [
    "#Import data\n",
    "df_autolib = pd.read_csv(\"autolib_daily_events_postal_code.csv\")"
   ]
  },
  {
   "cell_type": "markdown",
   "metadata": {
    "slideshow": {
     "slide_type": "slide"
    }
   },
   "source": [
    "## 2.0 Data Understanding"
   ]
  },
  {
   "cell_type": "markdown",
   "metadata": {},
   "source": [
    "### 2.1 Understanding"
   ]
  },
  {
   "cell_type": "code",
   "execution_count": 222,
   "metadata": {},
   "outputs": [
    {
     "data": {
      "text/html": [
       "<div>\n",
       "<style>\n",
       "    .dataframe thead tr:only-child th {\n",
       "        text-align: right;\n",
       "    }\n",
       "\n",
       "    .dataframe thead th {\n",
       "        text-align: left;\n",
       "    }\n",
       "\n",
       "    .dataframe tbody tr th {\n",
       "        vertical-align: top;\n",
       "    }\n",
       "</style>\n",
       "<table border=\"1\" class=\"dataframe\">\n",
       "  <thead>\n",
       "    <tr style=\"text-align: right;\">\n",
       "      <th></th>\n",
       "      <th>Postal code</th>\n",
       "      <th>date</th>\n",
       "      <th>n_daily_data_points</th>\n",
       "      <th>dayOfWeek</th>\n",
       "      <th>day_type</th>\n",
       "      <th>BlueCars_taken_sum</th>\n",
       "      <th>BlueCars_returned_sum</th>\n",
       "      <th>Utilib_taken_sum</th>\n",
       "      <th>Utilib_returned_sum</th>\n",
       "      <th>Utilib_14_taken_sum</th>\n",
       "      <th>Utilib_14_returned_sum</th>\n",
       "      <th>Slots_freed_sum</th>\n",
       "      <th>Slots_taken_sum</th>\n",
       "    </tr>\n",
       "  </thead>\n",
       "  <tbody>\n",
       "    <tr>\n",
       "      <th>6838</th>\n",
       "      <td>92250</td>\n",
       "      <td>5/28/2018</td>\n",
       "      <td>1440</td>\n",
       "      <td>0</td>\n",
       "      <td>weekday</td>\n",
       "      <td>59</td>\n",
       "      <td>59</td>\n",
       "      <td>1</td>\n",
       "      <td>1</td>\n",
       "      <td>13</td>\n",
       "      <td>13</td>\n",
       "      <td>4</td>\n",
       "      <td>4</td>\n",
       "    </tr>\n",
       "    <tr>\n",
       "      <th>2268</th>\n",
       "      <td>75015</td>\n",
       "      <td>3/29/2018</td>\n",
       "      <td>1440</td>\n",
       "      <td>3</td>\n",
       "      <td>weekday</td>\n",
       "      <td>833</td>\n",
       "      <td>839</td>\n",
       "      <td>21</td>\n",
       "      <td>24</td>\n",
       "      <td>52</td>\n",
       "      <td>47</td>\n",
       "      <td>240</td>\n",
       "      <td>238</td>\n",
       "    </tr>\n",
       "    <tr>\n",
       "      <th>3246</th>\n",
       "      <td>75112</td>\n",
       "      <td>5/21/2018</td>\n",
       "      <td>1440</td>\n",
       "      <td>0</td>\n",
       "      <td>weekday</td>\n",
       "      <td>7</td>\n",
       "      <td>7</td>\n",
       "      <td>0</td>\n",
       "      <td>0</td>\n",
       "      <td>0</td>\n",
       "      <td>0</td>\n",
       "      <td>1</td>\n",
       "      <td>1</td>\n",
       "    </tr>\n",
       "    <tr>\n",
       "      <th>13097</th>\n",
       "      <td>94000</td>\n",
       "      <td>5/25/2018</td>\n",
       "      <td>1440</td>\n",
       "      <td>4</td>\n",
       "      <td>weekday</td>\n",
       "      <td>81</td>\n",
       "      <td>95</td>\n",
       "      <td>5</td>\n",
       "      <td>5</td>\n",
       "      <td>10</td>\n",
       "      <td>8</td>\n",
       "      <td>0</td>\n",
       "      <td>0</td>\n",
       "    </tr>\n",
       "    <tr>\n",
       "      <th>7470</th>\n",
       "      <td>92300</td>\n",
       "      <td>6/5/2018</td>\n",
       "      <td>1439</td>\n",
       "      <td>1</td>\n",
       "      <td>weekday</td>\n",
       "      <td>190</td>\n",
       "      <td>191</td>\n",
       "      <td>2</td>\n",
       "      <td>2</td>\n",
       "      <td>4</td>\n",
       "      <td>6</td>\n",
       "      <td>0</td>\n",
       "      <td>0</td>\n",
       "    </tr>\n",
       "    <tr>\n",
       "      <th>2708</th>\n",
       "      <td>75018</td>\n",
       "      <td>3/1/2018</td>\n",
       "      <td>1389</td>\n",
       "      <td>3</td>\n",
       "      <td>weekday</td>\n",
       "      <td>385</td>\n",
       "      <td>398</td>\n",
       "      <td>8</td>\n",
       "      <td>7</td>\n",
       "      <td>33</td>\n",
       "      <td>32</td>\n",
       "      <td>107</td>\n",
       "      <td>105</td>\n",
       "    </tr>\n",
       "    <tr>\n",
       "      <th>3227</th>\n",
       "      <td>75112</td>\n",
       "      <td>4/21/2018</td>\n",
       "      <td>1440</td>\n",
       "      <td>5</td>\n",
       "      <td>weekend</td>\n",
       "      <td>20</td>\n",
       "      <td>21</td>\n",
       "      <td>3</td>\n",
       "      <td>2</td>\n",
       "      <td>1</td>\n",
       "      <td>1</td>\n",
       "      <td>2</td>\n",
       "      <td>2</td>\n",
       "    </tr>\n",
       "    <tr>\n",
       "      <th>5866</th>\n",
       "      <td>92190</td>\n",
       "      <td>4/11/2018</td>\n",
       "      <td>1439</td>\n",
       "      <td>2</td>\n",
       "      <td>weekday</td>\n",
       "      <td>55</td>\n",
       "      <td>56</td>\n",
       "      <td>0</td>\n",
       "      <td>1</td>\n",
       "      <td>3</td>\n",
       "      <td>4</td>\n",
       "      <td>0</td>\n",
       "      <td>0</td>\n",
       "    </tr>\n",
       "    <tr>\n",
       "      <th>13560</th>\n",
       "      <td>94120</td>\n",
       "      <td>5/21/2018</td>\n",
       "      <td>1440</td>\n",
       "      <td>0</td>\n",
       "      <td>weekday</td>\n",
       "      <td>42</td>\n",
       "      <td>52</td>\n",
       "      <td>0</td>\n",
       "      <td>1</td>\n",
       "      <td>5</td>\n",
       "      <td>4</td>\n",
       "      <td>0</td>\n",
       "      <td>0</td>\n",
       "    </tr>\n",
       "    <tr>\n",
       "      <th>14465</th>\n",
       "      <td>94230</td>\n",
       "      <td>4/9/2018</td>\n",
       "      <td>1440</td>\n",
       "      <td>0</td>\n",
       "      <td>weekday</td>\n",
       "      <td>33</td>\n",
       "      <td>31</td>\n",
       "      <td>0</td>\n",
       "      <td>1</td>\n",
       "      <td>0</td>\n",
       "      <td>1</td>\n",
       "      <td>0</td>\n",
       "      <td>0</td>\n",
       "    </tr>\n",
       "  </tbody>\n",
       "</table>\n",
       "</div>"
      ],
      "text/plain": [
       "       Postal code       date  n_daily_data_points  dayOfWeek day_type  BlueCars_taken_sum  BlueCars_returned_sum  Utilib_taken_sum  Utilib_returned_sum  Utilib_14_taken_sum  Utilib_14_returned_sum  Slots_freed_sum  Slots_taken_sum\n",
       "6838         92250  5/28/2018                 1440          0  weekday                  59                     59                 1                    1                   13                      13                4                4\n",
       "2268         75015  3/29/2018                 1440          3  weekday                 833                    839                21                   24                   52                      47              240              238\n",
       "3246         75112  5/21/2018                 1440          0  weekday                   7                      7                 0                    0                    0                       0                1                1\n",
       "13097        94000  5/25/2018                 1440          4  weekday                  81                     95                 5                    5                   10                       8                0                0\n",
       "7470         92300   6/5/2018                 1439          1  weekday                 190                    191                 2                    2                    4                       6                0                0\n",
       "2708         75018   3/1/2018                 1389          3  weekday                 385                    398                 8                    7                   33                      32              107              105\n",
       "3227         75112  4/21/2018                 1440          5  weekend                  20                     21                 3                    2                    1                       1                2                2\n",
       "5866         92190  4/11/2018                 1439          2  weekday                  55                     56                 0                    1                    3                       4                0                0\n",
       "13560        94120  5/21/2018                 1440          0  weekday                  42                     52                 0                    1                    5                       4                0                0\n",
       "14465        94230   4/9/2018                 1440          0  weekday                  33                     31                 0                    1                    0                       1                0                0"
      ]
     },
     "execution_count": 222,
     "metadata": {},
     "output_type": "execute_result"
    }
   ],
   "source": [
    "#Check sample data\n",
    "df_autolib.sample(10)"
   ]
  },
  {
   "cell_type": "code",
   "execution_count": 223,
   "metadata": {},
   "outputs": [
    {
     "data": {
      "text/plain": [
       "(16085, 13)"
      ]
     },
     "execution_count": 223,
     "metadata": {},
     "output_type": "execute_result"
    }
   ],
   "source": [
    "df_autolib.shape"
   ]
  },
  {
   "cell_type": "markdown",
   "metadata": {},
   "source": [
    "Dataset has 16,085 rows and 13 columns"
   ]
  },
  {
   "cell_type": "code",
   "execution_count": 224,
   "metadata": {},
   "outputs": [
    {
     "name": "stdout",
     "output_type": "stream",
     "text": [
      "<class 'pandas.core.frame.DataFrame'>\n",
      "RangeIndex: 16085 entries, 0 to 16084\n",
      "Data columns (total 13 columns):\n",
      "Postal code               16085 non-null int64\n",
      "date                      16085 non-null object\n",
      "n_daily_data_points       16085 non-null int64\n",
      "dayOfWeek                 16085 non-null int64\n",
      "day_type                  16085 non-null object\n",
      "BlueCars_taken_sum        16085 non-null int64\n",
      "BlueCars_returned_sum     16085 non-null int64\n",
      "Utilib_taken_sum          16085 non-null int64\n",
      "Utilib_returned_sum       16085 non-null int64\n",
      "Utilib_14_taken_sum       16085 non-null int64\n",
      "Utilib_14_returned_sum    16085 non-null int64\n",
      "Slots_freed_sum           16085 non-null int64\n",
      "Slots_taken_sum           16085 non-null int64\n",
      "dtypes: int64(11), object(2)\n",
      "memory usage: 1.6+ MB\n"
     ]
    }
   ],
   "source": [
    "#Explore the column data types\n",
    "df_autolib.info()"
   ]
  },
  {
   "cell_type": "markdown",
   "metadata": {},
   "source": [
    "2 columns are of string date type while rest are integer."
   ]
  },
  {
   "cell_type": "code",
   "execution_count": 225,
   "metadata": {},
   "outputs": [
    {
     "data": {
      "text/plain": [
       "Postal code               0\n",
       "date                      0\n",
       "n_daily_data_points       0\n",
       "dayOfWeek                 0\n",
       "day_type                  0\n",
       "BlueCars_taken_sum        0\n",
       "BlueCars_returned_sum     0\n",
       "Utilib_taken_sum          0\n",
       "Utilib_returned_sum       0\n",
       "Utilib_14_taken_sum       0\n",
       "Utilib_14_returned_sum    0\n",
       "Slots_freed_sum           0\n",
       "Slots_taken_sum           0\n",
       "dtype: int64"
      ]
     },
     "execution_count": 225,
     "metadata": {},
     "output_type": "execute_result"
    }
   ],
   "source": [
    "#Check Null Columns\n",
    "df_autolib.isnull().sum()"
   ]
  },
  {
   "cell_type": "markdown",
   "metadata": {},
   "source": [
    "No null records in the dataset"
   ]
  },
  {
   "cell_type": "markdown",
   "metadata": {},
   "source": [
    "### 2.1 Preparation\n",
    "\n",
    "Take actions from data exploration actions above"
   ]
  },
  {
   "cell_type": "code",
   "execution_count": 226,
   "metadata": {
    "collapsed": true
   },
   "outputs": [],
   "source": [
    "# Change Date column to string data type\n",
    "df_autolib['date'] = pd.to_datetime(df_autolib['date'], format='%m/%d/%Y')"
   ]
  },
  {
   "cell_type": "code",
   "execution_count": 227,
   "metadata": {
    "collapsed": true
   },
   "outputs": [],
   "source": [
    "# Create data frame for Blue cars\n",
    "df_bc = df_autolib[['Postal code','date','dayOfWeek','day_type','BlueCars_taken_sum','BlueCars_returned_sum']]\n",
    "df_bc = df_bc.copy()"
   ]
  },
  {
   "cell_type": "code",
   "execution_count": 228,
   "metadata": {},
   "outputs": [
    {
     "data": {
      "text/html": [
       "<div>\n",
       "<style>\n",
       "    .dataframe thead tr:only-child th {\n",
       "        text-align: right;\n",
       "    }\n",
       "\n",
       "    .dataframe thead th {\n",
       "        text-align: left;\n",
       "    }\n",
       "\n",
       "    .dataframe tbody tr th {\n",
       "        vertical-align: top;\n",
       "    }\n",
       "</style>\n",
       "<table border=\"1\" class=\"dataframe\">\n",
       "  <thead>\n",
       "    <tr style=\"text-align: right;\">\n",
       "      <th></th>\n",
       "      <th>Postal code</th>\n",
       "      <th>date</th>\n",
       "      <th>dayOfWeek</th>\n",
       "      <th>day_type</th>\n",
       "      <th>BlueCars_taken_sum</th>\n",
       "      <th>BlueCars_returned_sum</th>\n",
       "    </tr>\n",
       "  </thead>\n",
       "  <tbody>\n",
       "    <tr>\n",
       "      <th>0</th>\n",
       "      <td>75001</td>\n",
       "      <td>2018-01-01</td>\n",
       "      <td>0</td>\n",
       "      <td>weekday</td>\n",
       "      <td>110</td>\n",
       "      <td>103</td>\n",
       "    </tr>\n",
       "    <tr>\n",
       "      <th>1</th>\n",
       "      <td>75001</td>\n",
       "      <td>2018-01-02</td>\n",
       "      <td>1</td>\n",
       "      <td>weekday</td>\n",
       "      <td>98</td>\n",
       "      <td>94</td>\n",
       "    </tr>\n",
       "    <tr>\n",
       "      <th>2</th>\n",
       "      <td>75001</td>\n",
       "      <td>2018-01-03</td>\n",
       "      <td>2</td>\n",
       "      <td>weekday</td>\n",
       "      <td>138</td>\n",
       "      <td>139</td>\n",
       "    </tr>\n",
       "    <tr>\n",
       "      <th>3</th>\n",
       "      <td>75001</td>\n",
       "      <td>2018-01-04</td>\n",
       "      <td>3</td>\n",
       "      <td>weekday</td>\n",
       "      <td>104</td>\n",
       "      <td>104</td>\n",
       "    </tr>\n",
       "    <tr>\n",
       "      <th>4</th>\n",
       "      <td>75001</td>\n",
       "      <td>2018-01-05</td>\n",
       "      <td>4</td>\n",
       "      <td>weekday</td>\n",
       "      <td>114</td>\n",
       "      <td>117</td>\n",
       "    </tr>\n",
       "  </tbody>\n",
       "</table>\n",
       "</div>"
      ],
      "text/plain": [
       "   Postal code       date  dayOfWeek day_type  BlueCars_taken_sum  BlueCars_returned_sum\n",
       "0        75001 2018-01-01          0  weekday                 110                    103\n",
       "1        75001 2018-01-02          1  weekday                  98                     94\n",
       "2        75001 2018-01-03          2  weekday                 138                    139\n",
       "3        75001 2018-01-04          3  weekday                 104                    104\n",
       "4        75001 2018-01-05          4  weekday                 114                    117"
      ]
     },
     "execution_count": 228,
     "metadata": {},
     "output_type": "execute_result"
    }
   ],
   "source": [
    "# Verify contents of new dataframe\n",
    "df_bc.head()"
   ]
  },
  {
   "cell_type": "markdown",
   "metadata": {
    "slideshow": {
     "slide_type": "slide"
    }
   },
   "source": [
    "## 3.0 Exploratory Data Analysis"
   ]
  },
  {
   "cell_type": "markdown",
   "metadata": {},
   "source": [
    "### 3.1 Distribution"
   ]
  },
  {
   "cell_type": "markdown",
   "metadata": {},
   "source": [
    "Statistical Distribution"
   ]
  },
  {
   "cell_type": "code",
   "execution_count": 229,
   "metadata": {},
   "outputs": [
    {
     "data": {
      "text/html": [
       "<div>\n",
       "<style>\n",
       "    .dataframe thead tr:only-child th {\n",
       "        text-align: right;\n",
       "    }\n",
       "\n",
       "    .dataframe thead th {\n",
       "        text-align: left;\n",
       "    }\n",
       "\n",
       "    .dataframe tbody tr th {\n",
       "        vertical-align: top;\n",
       "    }\n",
       "</style>\n",
       "<table border=\"1\" class=\"dataframe\">\n",
       "  <thead>\n",
       "    <tr style=\"text-align: right;\">\n",
       "      <th></th>\n",
       "      <th>Postal code</th>\n",
       "      <th>dayOfWeek</th>\n",
       "      <th>BlueCars_taken_sum</th>\n",
       "      <th>BlueCars_returned_sum</th>\n",
       "    </tr>\n",
       "  </thead>\n",
       "  <tbody>\n",
       "    <tr>\n",
       "      <th>count</th>\n",
       "      <td>16085.000000</td>\n",
       "      <td>16085.000000</td>\n",
       "      <td>16085.000000</td>\n",
       "      <td>16085.000000</td>\n",
       "    </tr>\n",
       "    <tr>\n",
       "      <th>mean</th>\n",
       "      <td>88791.293876</td>\n",
       "      <td>2.969599</td>\n",
       "      <td>125.926951</td>\n",
       "      <td>125.912714</td>\n",
       "    </tr>\n",
       "    <tr>\n",
       "      <th>std</th>\n",
       "      <td>7647.342000</td>\n",
       "      <td>2.008378</td>\n",
       "      <td>185.426579</td>\n",
       "      <td>185.501535</td>\n",
       "    </tr>\n",
       "    <tr>\n",
       "      <th>min</th>\n",
       "      <td>75001.000000</td>\n",
       "      <td>0.000000</td>\n",
       "      <td>0.000000</td>\n",
       "      <td>0.000000</td>\n",
       "    </tr>\n",
       "    <tr>\n",
       "      <th>25%</th>\n",
       "      <td>91330.000000</td>\n",
       "      <td>1.000000</td>\n",
       "      <td>20.000000</td>\n",
       "      <td>20.000000</td>\n",
       "    </tr>\n",
       "    <tr>\n",
       "      <th>50%</th>\n",
       "      <td>92340.000000</td>\n",
       "      <td>3.000000</td>\n",
       "      <td>46.000000</td>\n",
       "      <td>46.000000</td>\n",
       "    </tr>\n",
       "    <tr>\n",
       "      <th>75%</th>\n",
       "      <td>93400.000000</td>\n",
       "      <td>5.000000</td>\n",
       "      <td>135.000000</td>\n",
       "      <td>135.000000</td>\n",
       "    </tr>\n",
       "    <tr>\n",
       "      <th>max</th>\n",
       "      <td>95880.000000</td>\n",
       "      <td>6.000000</td>\n",
       "      <td>1352.000000</td>\n",
       "      <td>1332.000000</td>\n",
       "    </tr>\n",
       "  </tbody>\n",
       "</table>\n",
       "</div>"
      ],
      "text/plain": [
       "        Postal code     dayOfWeek  BlueCars_taken_sum  BlueCars_returned_sum\n",
       "count  16085.000000  16085.000000        16085.000000           16085.000000\n",
       "mean   88791.293876      2.969599          125.926951             125.912714\n",
       "std     7647.342000      2.008378          185.426579             185.501535\n",
       "min    75001.000000      0.000000            0.000000               0.000000\n",
       "25%    91330.000000      1.000000           20.000000              20.000000\n",
       "50%    92340.000000      3.000000           46.000000              46.000000\n",
       "75%    93400.000000      5.000000          135.000000             135.000000\n",
       "max    95880.000000      6.000000         1352.000000            1332.000000"
      ]
     },
     "execution_count": 229,
     "metadata": {},
     "output_type": "execute_result"
    }
   ],
   "source": [
    "df_bc.describe()"
   ]
  },
  {
   "cell_type": "markdown",
   "metadata": {},
   "source": [
    "Graphical Distribution"
   ]
  },
  {
   "cell_type": "code",
   "execution_count": 230,
   "metadata": {},
   "outputs": [
    {
     "data": {
      "image/png": "[encoded data removed]",
      "text/plain": [
       "<matplotlib.figure.Figure at 0x7fcb24c41518>"
      ]
     },
     "metadata": {},
     "output_type": "display_data"
    }
   ],
   "source": [
    "# Checking for Anomalies\n",
    "col_names = ['BlueCars_taken_sum','BlueCars_returned_sum','dayOfWeek','Postal code']\n",
    "fig, ax = plt.subplots(len(col_names), figsize=(15,20))\n",
    "\n",
    "for i, col_val in enumerate(col_names):\n",
    "\n",
    "    sns.distplot(df_bc[col_val], hist=True, ax=ax[i])\n",
    "    ax[i].set_title('Frequency distribution of '+col_val, fontsize=10)\n",
    "    ax[i].set_xlabel(col_val, fontsize=8)\n",
    "    ax[i].set_ylabel('Count', fontsize=8)\n",
    "\n",
    "plt.show()"
   ]
  },
  {
   "cell_type": "markdown",
   "metadata": {},
   "source": [
    "Observations\n",
    "1. Distribution of Sum of blue cars taken and return skewed to the left.\n",
    "\n",
    "2. Cars hired throughtout the week with days 0 and 1 having a small records increase.\n",
    "\n",
    "3. 3 distinct regions noted as the car hire destinations based on postal codes distributions"
   ]
  },
  {
   "cell_type": "markdown",
   "metadata": {},
   "source": [
    "### 3.2 Distribution of Categorical variables"
   ]
  },
  {
   "cell_type": "markdown",
   "metadata": {},
   "source": [
    "a) Day_Type"
   ]
  },
  {
   "cell_type": "code",
   "execution_count": 231,
   "metadata": {},
   "outputs": [
    {
     "data": {
      "image/png": "[encoded data removed]",
      "text/plain": [
       "<matplotlib.figure.Figure at 0x7fcb24c416a0>"
      ]
     },
     "metadata": {},
     "output_type": "display_data"
    }
   ],
   "source": [
    "df_bc['day_type'].value_counts().plot.bar(rot =0)\n",
    "plt.xlabel(\"day_type\")\n",
    "plt.ylabel(\"Count\")\n",
    "plt.title(\"Records Count per day_type\")\n",
    "plt.show()"
   ]
  },
  {
   "cell_type": "markdown",
   "metadata": {},
   "source": [
    "Observation: Cummulatively from a simplistic perspective, there are more rides on week days. Expected as there are more weekdays than weekends."
   ]
  },
  {
   "cell_type": "markdown",
   "metadata": {},
   "source": [
    "b) Day of the week"
   ]
  },
  {
   "cell_type": "code",
   "execution_count": 232,
   "metadata": {},
   "outputs": [
    {
     "data": {
      "image/png": "[encoded data removed]",
      "text/plain": [
       "<matplotlib.figure.Figure at 0x7fcb24667dd8>"
      ]
     },
     "metadata": {},
     "output_type": "display_data"
    }
   ],
   "source": [
    "df_bc['dayOfWeek'].value_counts().plot.bar(rot =0)\n",
    "plt.xlabel(\"dayOfWeek\")\n",
    "plt.ylabel(\"Count\")\n",
    "plt.title(\"Records Count per dayOfWeek\")\n",
    "plt.show()"
   ]
  },
  {
   "cell_type": "markdown",
   "metadata": {},
   "source": [
    "Observation: Saturday and Sunday (days 0 and 1) have higher daily record counts"
   ]
  },
  {
   "cell_type": "markdown",
   "metadata": {},
   "source": [
    "### 3.3 Checking outliers"
   ]
  },
  {
   "cell_type": "code",
   "execution_count": 233,
   "metadata": {},
   "outputs": [
    {
     "data": {
      "image/png": "[encoded data removed]",
      "text/plain": [
       "<matplotlib.figure.Figure at 0x7fcb249b5f28>"
      ]
     },
     "metadata": {},
     "output_type": "display_data"
    }
   ],
   "source": [
    "#Outlier: Year, household size and respondent age\n",
    "col_names = ['BlueCars_taken_sum','BlueCars_returned_sum','Postal code']\n",
    "\n",
    "fig, ax = plt.subplots(len(col_names), figsize=(6,20))\n",
    "\n",
    "for i, col_val in enumerate(col_names):\n",
    "\n",
    "    sns.boxplot(y=df_bc[col_val], ax=ax[i])\n",
    "    ax[i].set_title('Box plot - {}'.format(col_val), fontsize=10)\n",
    "    ax[i].set_xlabel(col_val, fontsize=8)\n",
    "\n",
    "plt.show()"
   ]
  },
  {
   "cell_type": "markdown",
   "metadata": {},
   "source": [
    "Observations: \n",
    "\n",
    "a) Regarding blue cars taken and returned, the outliers are valid data points hence cannot be ignored. \n",
    "\n",
    "b) Postal codes : Possibly different regions hence the differing postal codes\n",
    "    "
   ]
  },
  {
   "cell_type": "markdown",
   "metadata": {},
   "source": [
    "### 3.4 Bi-variate analysis"
   ]
  },
  {
   "cell_type": "markdown",
   "metadata": {},
   "source": [
    "a) Blue cars taken versus blue cars returned"
   ]
  },
  {
   "cell_type": "code",
   "execution_count": 234,
   "metadata": {},
   "outputs": [
    {
     "data": {
      "image/png": "[encoded data removed]",
      "text/plain": [
       "<matplotlib.figure.Figure at 0x7fcb254bafd0>"
      ]
     },
     "metadata": {},
     "output_type": "display_data"
    }
   ],
   "source": [
    "#Scatter plot will check for any correlation between age and household size\n",
    "# Plotting  scatterplot\n",
    "plt.scatter(df_bc['BlueCars_taken_sum'], df_bc['BlueCars_returned_sum'])\n",
    "\n",
    "# Title\n",
    "plt.title('BlueCars taken sum vs BlueCars returned sum')\n",
    "\n",
    "# X axis label\n",
    "plt.xlabel('BlueCars taken sum)')\n",
    "\n",
    "# y axis label\n",
    "plt.ylabel('BlueCars returned sum')\n",
    "\n",
    "# Display scatterplot\n",
    "plt.show()\n"
   ]
  },
  {
   "cell_type": "markdown",
   "metadata": {},
   "source": [
    "Observation: There is a direct correlation between blue cars taken and blue cars returned"
   ]
  },
  {
   "cell_type": "markdown",
   "metadata": {},
   "source": [
    "b) Blue cars taken versus day of the week"
   ]
  },
  {
   "cell_type": "code",
   "execution_count": 235,
   "metadata": {},
   "outputs": [
    {
     "data": {
      "image/png": "[encoded data removed]",
      "text/plain": [
       "<matplotlib.figure.Figure at 0x7fcb24ae4f98>"
      ]
     },
     "metadata": {},
     "output_type": "display_data"
    }
   ],
   "source": [
    "# Plotting  scatterplot\n",
    "plt.scatter(df_bc['BlueCars_taken_sum'], df_bc['dayOfWeek'])\n",
    "\n",
    "# Title\n",
    "plt.title('BlueCars taken sum vs day of the week')\n",
    "\n",
    "# X axis label\n",
    "plt.xlabel('BlueCars taken sum)')\n",
    "\n",
    "# y axis label\n",
    "plt.ylabel('day of the week')\n",
    "\n",
    "# Display scatterplot\n",
    "plt.show()\n"
   ]
  },
  {
   "cell_type": "markdown",
   "metadata": {},
   "source": [
    "Observation: Wednesday, Thursday and Friday have days where over 1000 cars are hired"
   ]
  },
  {
   "cell_type": "markdown",
   "metadata": {},
   "source": [
    "c) Blue cars returned versus day of the week"
   ]
  },
  {
   "cell_type": "code",
   "execution_count": 236,
   "metadata": {},
   "outputs": [
    {
     "data": {
      "image/png": "[encoded data removed]",
      "text/plain": [
       "<matplotlib.figure.Figure at 0x7fcb24903518>"
      ]
     },
     "metadata": {},
     "output_type": "display_data"
    }
   ],
   "source": [
    "# Plotting  scatterplot\n",
    "plt.scatter(df_bc['BlueCars_returned_sum'], df_bc['dayOfWeek'])\n",
    "\n",
    "# Title\n",
    "plt.title('BlueCars returned sum vs day of the week')\n",
    "\n",
    "# X axis label\n",
    "plt.xlabel('BlueCars returned sum)')\n",
    "\n",
    "# y axis label\n",
    "plt.ylabel('day of the week')\n",
    "\n",
    "# Display scatterplot\n",
    "plt.show()"
   ]
  },
  {
   "cell_type": "markdown",
   "metadata": {},
   "source": [
    "Observations : There are instances where more cars over 1000 \n",
    "    are returned on Thursday and Fridays"
   ]
  },
  {
   "cell_type": "markdown",
   "metadata": {
    "slideshow": {
     "slide_type": "slide"
    }
   },
   "source": [
    "## Feature Engineering"
   ]
  },
  {
   "cell_type": "markdown",
   "metadata": {},
   "source": [
    "Create new column strata. Each strata will represent an administrative region which is composed of postal codes\n",
    "\n",
    "Rationale for this is to compare Paris CBD versus surburb of Seine-Saint-Denis as documented in data report."
   ]
  },
  {
   "cell_type": "code",
   "execution_count": 237,
   "metadata": {},
   "outputs": [
    {
     "data": {
      "text/plain": [
       "array([75001, 75002, 75003, 75004, 75005, 75006, 75007, 75008, 75009,\n",
       "       75010, 75011, 75012, 75013, 75014, 75015, 75016, 75017, 75018,\n",
       "       75019, 75020, 75112, 75116, 78000, 78140, 78150, 91330, 91370,\n",
       "       91400, 92000, 92100, 92110, 92120, 92130, 92140, 92150, 92160,\n",
       "       92170, 92190, 92200, 92210, 92220, 92230, 92240, 92250, 92260,\n",
       "       92270, 92290, 92300, 92310, 92320, 92330, 92340, 92350, 92360,\n",
       "       92370, 92380, 92390, 92400, 92410, 92420, 92500, 92600, 92700,\n",
       "       92800, 93100, 93110, 93130, 93150, 93170, 93200, 93230, 93260,\n",
       "       93300, 93310, 93350, 93360, 93370, 93390, 93400, 93440, 93500,\n",
       "       93600, 93700, 93800, 94000, 94100, 94110, 94120, 94130, 94140,\n",
       "       94150, 94160, 94220, 94230, 94300, 94340, 94410, 94450, 94500,\n",
       "       94700, 94800, 95100, 95870, 95880])"
      ]
     },
     "execution_count": 237,
     "metadata": {},
     "output_type": "execute_result"
    }
   ],
   "source": [
    "#Unique Postal Codes\n",
    "df_bc['Postal code'].unique()"
   ]
  },
  {
   "cell_type": "code",
   "execution_count": 238,
   "metadata": {},
   "outputs": [],
   "source": [
    "#Procedure to assign strata based on postal code per region\n",
    "def assign_strata():\n",
    "# Create a list to store the data\n",
    "    strata = []\n",
    "    # For each row in the column,\n",
    "    for postal_code in df_bc['Postal code']:\n",
    "        if postal_code >= 75000 and postal_code <= 75999:\n",
    "            strata.append(1)      \n",
    "        elif postal_code >= 78000 and postal_code <= 78999:\n",
    "            strata.append(2)\n",
    "        elif postal_code >= 91000 and postal_code <= 91999:\n",
    "            strata.append(3)\n",
    "        elif postal_code >= 92000 and postal_code <= 92999:\n",
    "            strata.append(4)\n",
    "        elif postal_code >= 93000 and postal_code <= 93999:\n",
    "            strata.append(5)\n",
    "        elif postal_code >= 94000 and postal_code <= 94999:\n",
    "            strata.append(6)    \n",
    "        elif postal_code >= 95000 and postal_code <= 95999:\n",
    "            strata.append(7)    \n",
    "                             \n",
    "    # Create a column from the list\n",
    "    df_bc['strata'] = strata"
   ]
  },
  {
   "cell_type": "code",
   "execution_count": 239,
   "metadata": {},
   "outputs": [],
   "source": [
    "# Execute strata\n",
    "assign_strata()"
   ]
  },
  {
   "cell_type": "code",
   "execution_count": 240,
   "metadata": {},
   "outputs": [
    {
     "data": {
      "text/html": [
       "<div>\n",
       "<style>\n",
       "    .dataframe thead tr:only-child th {\n",
       "        text-align: right;\n",
       "    }\n",
       "\n",
       "    .dataframe thead th {\n",
       "        text-align: left;\n",
       "    }\n",
       "\n",
       "    .dataframe tbody tr th {\n",
       "        vertical-align: top;\n",
       "    }\n",
       "</style>\n",
       "<table border=\"1\" class=\"dataframe\">\n",
       "  <thead>\n",
       "    <tr style=\"text-align: right;\">\n",
       "      <th></th>\n",
       "      <th>Postal code</th>\n",
       "      <th>date</th>\n",
       "      <th>dayOfWeek</th>\n",
       "      <th>day_type</th>\n",
       "      <th>BlueCars_taken_sum</th>\n",
       "      <th>BlueCars_returned_sum</th>\n",
       "      <th>strata</th>\n",
       "    </tr>\n",
       "  </thead>\n",
       "  <tbody>\n",
       "    <tr>\n",
       "      <th>8844</th>\n",
       "      <td>92390</td>\n",
       "      <td>2018-05-08</td>\n",
       "      <td>1</td>\n",
       "      <td>weekday</td>\n",
       "      <td>16</td>\n",
       "      <td>22</td>\n",
       "      <td>4</td>\n",
       "    </tr>\n",
       "    <tr>\n",
       "      <th>1416</th>\n",
       "      <td>75010</td>\n",
       "      <td>2018-01-13</td>\n",
       "      <td>5</td>\n",
       "      <td>weekend</td>\n",
       "      <td>466</td>\n",
       "      <td>468</td>\n",
       "      <td>1</td>\n",
       "    </tr>\n",
       "    <tr>\n",
       "      <th>1717</th>\n",
       "      <td>75012</td>\n",
       "      <td>2018-01-02</td>\n",
       "      <td>1</td>\n",
       "      <td>weekday</td>\n",
       "      <td>406</td>\n",
       "      <td>412</td>\n",
       "      <td>1</td>\n",
       "    </tr>\n",
       "    <tr>\n",
       "      <th>3172</th>\n",
       "      <td>75112</td>\n",
       "      <td>2018-02-22</td>\n",
       "      <td>3</td>\n",
       "      <td>weekday</td>\n",
       "      <td>14</td>\n",
       "      <td>14</td>\n",
       "      <td>1</td>\n",
       "    </tr>\n",
       "    <tr>\n",
       "      <th>6863</th>\n",
       "      <td>92260</td>\n",
       "      <td>2018-01-03</td>\n",
       "      <td>2</td>\n",
       "      <td>weekday</td>\n",
       "      <td>24</td>\n",
       "      <td>28</td>\n",
       "      <td>4</td>\n",
       "    </tr>\n",
       "  </tbody>\n",
       "</table>\n",
       "</div>"
      ],
      "text/plain": [
       "      Postal code       date  dayOfWeek day_type  BlueCars_taken_sum  BlueCars_returned_sum  strata\n",
       "8844        92390 2018-05-08          1  weekday                  16                     22       4\n",
       "1416        75010 2018-01-13          5  weekend                 466                    468       1\n",
       "1717        75012 2018-01-02          1  weekday                 406                    412       1\n",
       "3172        75112 2018-02-22          3  weekday                  14                     14       1\n",
       "6863        92260 2018-01-03          2  weekday                  24                     28       4"
      ]
     },
     "execution_count": 240,
     "metadata": {},
     "output_type": "execute_result"
    }
   ],
   "source": [
    "#Observe strata column is created\n",
    "df_bc.sample(5)"
   ]
  },
  {
   "cell_type": "markdown",
   "metadata": {
    "slideshow": {
     "slide_type": "slide"
    }
   },
   "source": [
    "## Sampling"
   ]
  },
  {
   "cell_type": "markdown",
   "metadata": {},
   "source": [
    "a) Strata is Postal Code"
   ]
  },
  {
   "cell_type": "code",
   "execution_count": 241,
   "metadata": {},
   "outputs": [
    {
     "data": {
      "text/plain": [
       "array([1, 2, 3, 4, 5, 6, 7])"
      ]
     },
     "execution_count": 241,
     "metadata": {},
     "output_type": "execute_result"
    }
   ],
   "source": [
    "df_bc['strata'].unique()"
   ]
  },
  {
   "cell_type": "markdown",
   "metadata": {},
   "source": [
    "b) Sampling approach\n",
    "\n",
    "Stratified sampling to be applied where 10% of records will be selected from each strata i.e postal code"
   ]
  },
  {
   "cell_type": "code",
   "execution_count": 242,
   "metadata": {},
   "outputs": [
    {
     "data": {
      "text/plain": [
       "7     47\n",
       "3     47\n",
       "2     47\n",
       "6    265\n",
       "5    300\n",
       "1    343\n",
       "4    560\n",
       "Name: strata, dtype: int64"
      ]
     },
     "execution_count": 242,
     "metadata": {},
     "output_type": "execute_result"
    }
   ],
   "source": [
    "# Stratified sample\n",
    "df_bc_strat = df_bc.groupby('strata', group_keys=False).apply(lambda grouped_subset : grouped_subset.sample(frac=0.10))\n",
    "\n",
    "# Counts per strata\n",
    "df_output = df_bc_strat['strata'].value_counts().sort_values()\n",
    "df_output[:]"
   ]
  },
  {
   "cell_type": "markdown",
   "metadata": {
    "slideshow": {
     "slide_type": "slide"
    }
   },
   "source": [
    "## Sampling Normality tests"
   ]
  },
  {
   "cell_type": "markdown",
   "metadata": {},
   "source": [
    "a) Distribution per strata before sampling"
   ]
  },
  {
   "cell_type": "code",
   "execution_count": 243,
   "metadata": {},
   "outputs": [
    {
     "data": {
      "image/png": "[encoded data removed]",
      "text/plain": [
       "<matplotlib.figure.Figure at 0x7fcb25326860>"
      ]
     },
     "metadata": {},
     "output_type": "display_data"
    }
   ],
   "source": [
    "# histogram plot of whole population per strata\n",
    "plt.hist(df_bc['strata'])\n",
    "plt.xlabel(\"Strata\")\n",
    "plt.ylabel(\"Records Count\")\n",
    "plt.title(\"Records Count Per Strata for Whole Population\")\n",
    "plt.show()"
   ]
  },
  {
   "cell_type": "markdown",
   "metadata": {},
   "source": [
    "b) Distribution per strata after sampling"
   ]
  },
  {
   "cell_type": "code",
   "execution_count": 244,
   "metadata": {},
   "outputs": [
    {
     "data": {
      "image/png": "[encoded data removed]",
      "text/plain": [
       "<matplotlib.figure.Figure at 0x7fcb24fe15c0>"
      ]
     },
     "metadata": {},
     "output_type": "display_data"
    }
   ],
   "source": [
    "#Distribution post sampling\n",
    "plt.hist(df_bc_strat['strata'])\n",
    "plt.xlabel(\"Strata\")\n",
    "plt.ylabel(\"Records Count\")\n",
    "plt.title(\"Records Count Per Strata for Sample Population\")\n",
    "plt.show()"
   ]
  },
  {
   "cell_type": "markdown",
   "metadata": {},
   "source": [
    "The distribution pattern before sampling and after sampling is similar hence sampling was well distributed across all strata."
   ]
  },
  {
   "cell_type": "markdown",
   "metadata": {},
   "source": [
    "#### Create dataframe the two regions with data for weekends only\n",
    "\n",
    "#### Strata\n",
    "75XXX - Paris - Strata 1\n",
    "93XXX - Seine-Saint-Denis - Strata 5"
   ]
  },
  {
   "cell_type": "markdown",
   "metadata": {},
   "source": [
    "i) Paris Sample"
   ]
  },
  {
   "cell_type": "code",
   "execution_count": 245,
   "metadata": {},
   "outputs": [
    {
     "data": {
      "text/html": [
       "<div>\n",
       "<style>\n",
       "    .dataframe thead tr:only-child th {\n",
       "        text-align: right;\n",
       "    }\n",
       "\n",
       "    .dataframe thead th {\n",
       "        text-align: left;\n",
       "    }\n",
       "\n",
       "    .dataframe tbody tr th {\n",
       "        vertical-align: top;\n",
       "    }\n",
       "</style>\n",
       "<table border=\"1\" class=\"dataframe\">\n",
       "  <thead>\n",
       "    <tr style=\"text-align: right;\">\n",
       "      <th></th>\n",
       "      <th>Postal code</th>\n",
       "      <th>date</th>\n",
       "      <th>dayOfWeek</th>\n",
       "      <th>day_type</th>\n",
       "      <th>BlueCars_taken_sum</th>\n",
       "      <th>BlueCars_returned_sum</th>\n",
       "      <th>strata</th>\n",
       "    </tr>\n",
       "  </thead>\n",
       "  <tbody>\n",
       "    <tr>\n",
       "      <th>2153</th>\n",
       "      <td>75014</td>\n",
       "      <td>2018-05-20</td>\n",
       "      <td>6</td>\n",
       "      <td>weekend</td>\n",
       "      <td>422</td>\n",
       "      <td>381</td>\n",
       "      <td>1</td>\n",
       "    </tr>\n",
       "    <tr>\n",
       "      <th>527</th>\n",
       "      <td>75004</td>\n",
       "      <td>2018-03-04</td>\n",
       "      <td>6</td>\n",
       "      <td>weekend</td>\n",
       "      <td>191</td>\n",
       "      <td>191</td>\n",
       "      <td>1</td>\n",
       "    </tr>\n",
       "    <tr>\n",
       "      <th>2953</th>\n",
       "      <td>75019</td>\n",
       "      <td>2018-06-09</td>\n",
       "      <td>5</td>\n",
       "      <td>weekend</td>\n",
       "      <td>756</td>\n",
       "      <td>756</td>\n",
       "      <td>1</td>\n",
       "    </tr>\n",
       "    <tr>\n",
       "      <th>3167</th>\n",
       "      <td>75112</td>\n",
       "      <td>2018-02-17</td>\n",
       "      <td>5</td>\n",
       "      <td>weekend</td>\n",
       "      <td>13</td>\n",
       "      <td>13</td>\n",
       "      <td>1</td>\n",
       "    </tr>\n",
       "    <tr>\n",
       "      <th>2427</th>\n",
       "      <td>75016</td>\n",
       "      <td>2018-04-01</td>\n",
       "      <td>6</td>\n",
       "      <td>weekend</td>\n",
       "      <td>738</td>\n",
       "      <td>745</td>\n",
       "      <td>1</td>\n",
       "    </tr>\n",
       "  </tbody>\n",
       "</table>\n",
       "</div>"
      ],
      "text/plain": [
       "      Postal code       date  dayOfWeek day_type  BlueCars_taken_sum  BlueCars_returned_sum  strata\n",
       "2153        75014 2018-05-20          6  weekend                 422                    381       1\n",
       "527         75004 2018-03-04          6  weekend                 191                    191       1\n",
       "2953        75019 2018-06-09          5  weekend                 756                    756       1\n",
       "3167        75112 2018-02-17          5  weekend                  13                     13       1\n",
       "2427        75016 2018-04-01          6  weekend                 738                    745       1"
      ]
     },
     "execution_count": 245,
     "metadata": {},
     "output_type": "execute_result"
    }
   ],
   "source": [
    "df_bc_sample_paris = df_bc_strat[ (df_bc_strat['strata']==1) & (df_bc_strat['day_type']=='weekend')]\n",
    "df_bc_sample_paris = df_bc_sample_paris.copy()\n",
    "df_bc_sample_paris.sample(5)"
   ]
  },
  {
   "cell_type": "markdown",
   "metadata": {},
   "source": [
    "ii) Seine-Saint-Denis Sample"
   ]
  },
  {
   "cell_type": "code",
   "execution_count": 246,
   "metadata": {},
   "outputs": [
    {
     "data": {
      "text/html": [
       "<div>\n",
       "<style>\n",
       "    .dataframe thead tr:only-child th {\n",
       "        text-align: right;\n",
       "    }\n",
       "\n",
       "    .dataframe thead th {\n",
       "        text-align: left;\n",
       "    }\n",
       "\n",
       "    .dataframe tbody tr th {\n",
       "        vertical-align: top;\n",
       "    }\n",
       "</style>\n",
       "<table border=\"1\" class=\"dataframe\">\n",
       "  <thead>\n",
       "    <tr style=\"text-align: right;\">\n",
       "      <th></th>\n",
       "      <th>Postal code</th>\n",
       "      <th>date</th>\n",
       "      <th>dayOfWeek</th>\n",
       "      <th>day_type</th>\n",
       "      <th>BlueCars_taken_sum</th>\n",
       "      <th>BlueCars_returned_sum</th>\n",
       "      <th>strata</th>\n",
       "    </tr>\n",
       "  </thead>\n",
       "  <tbody>\n",
       "    <tr>\n",
       "      <th>12898</th>\n",
       "      <td>93800</td>\n",
       "      <td>2018-04-01</td>\n",
       "      <td>6</td>\n",
       "      <td>weekend</td>\n",
       "      <td>24</td>\n",
       "      <td>15</td>\n",
       "      <td>5</td>\n",
       "    </tr>\n",
       "    <tr>\n",
       "      <th>12019</th>\n",
       "      <td>93390</td>\n",
       "      <td>2018-06-02</td>\n",
       "      <td>5</td>\n",
       "      <td>weekend</td>\n",
       "      <td>11</td>\n",
       "      <td>12</td>\n",
       "      <td>5</td>\n",
       "    </tr>\n",
       "    <tr>\n",
       "      <th>12402</th>\n",
       "      <td>93500</td>\n",
       "      <td>2018-03-04</td>\n",
       "      <td>6</td>\n",
       "      <td>weekend</td>\n",
       "      <td>57</td>\n",
       "      <td>58</td>\n",
       "      <td>5</td>\n",
       "    </tr>\n",
       "    <tr>\n",
       "      <th>11389</th>\n",
       "      <td>93310</td>\n",
       "      <td>2018-02-24</td>\n",
       "      <td>5</td>\n",
       "      <td>weekend</td>\n",
       "      <td>1</td>\n",
       "      <td>1</td>\n",
       "      <td>5</td>\n",
       "    </tr>\n",
       "    <tr>\n",
       "      <th>10453</th>\n",
       "      <td>93150</td>\n",
       "      <td>2018-01-20</td>\n",
       "      <td>5</td>\n",
       "      <td>weekend</td>\n",
       "      <td>9</td>\n",
       "      <td>6</td>\n",
       "      <td>5</td>\n",
       "    </tr>\n",
       "  </tbody>\n",
       "</table>\n",
       "</div>"
      ],
      "text/plain": [
       "       Postal code       date  dayOfWeek day_type  BlueCars_taken_sum  BlueCars_returned_sum  strata\n",
       "12898        93800 2018-04-01          6  weekend                  24                     15       5\n",
       "12019        93390 2018-06-02          5  weekend                  11                     12       5\n",
       "12402        93500 2018-03-04          6  weekend                  57                     58       5\n",
       "11389        93310 2018-02-24          5  weekend                   1                      1       5\n",
       "10453        93150 2018-01-20          5  weekend                   9                      6       5"
      ]
     },
     "execution_count": 246,
     "metadata": {},
     "output_type": "execute_result"
    }
   ],
   "source": [
    "df_bc_sample_ssd = df_bc_strat[ (df_bc_strat['strata']==5) & (df_bc_strat['day_type']=='weekend')]\n",
    "df_bc_sample_ssd = df_bc_sample_ssd.copy()\n",
    "df_bc_sample_ssd.sample(5)"
   ]
  },
  {
   "cell_type": "code",
   "execution_count": 247,
   "metadata": {},
   "outputs": [
    {
     "data": {
      "text/html": [
       "<div>\n",
       "<style>\n",
       "    .dataframe thead tr:only-child th {\n",
       "        text-align: right;\n",
       "    }\n",
       "\n",
       "    .dataframe thead th {\n",
       "        text-align: left;\n",
       "    }\n",
       "\n",
       "    .dataframe tbody tr th {\n",
       "        vertical-align: top;\n",
       "    }\n",
       "</style>\n",
       "<table border=\"1\" class=\"dataframe\">\n",
       "  <thead>\n",
       "    <tr style=\"text-align: right;\">\n",
       "      <th></th>\n",
       "      <th>Postal code</th>\n",
       "      <th>dayOfWeek</th>\n",
       "      <th>BlueCars_taken_sum</th>\n",
       "      <th>BlueCars_returned_sum</th>\n",
       "      <th>strata</th>\n",
       "    </tr>\n",
       "  </thead>\n",
       "  <tbody>\n",
       "    <tr>\n",
       "      <th>count</th>\n",
       "      <td>70.000000</td>\n",
       "      <td>70.000000</td>\n",
       "      <td>70.000000</td>\n",
       "      <td>70.000000</td>\n",
       "      <td>70.0</td>\n",
       "    </tr>\n",
       "    <tr>\n",
       "      <th>mean</th>\n",
       "      <td>93341.285714</td>\n",
       "      <td>5.442857</td>\n",
       "      <td>45.371429</td>\n",
       "      <td>44.628571</td>\n",
       "      <td>5.0</td>\n",
       "    </tr>\n",
       "    <tr>\n",
       "      <th>std</th>\n",
       "      <td>175.506897</td>\n",
       "      <td>0.500310</td>\n",
       "      <td>50.805732</td>\n",
       "      <td>50.659755</td>\n",
       "      <td>0.0</td>\n",
       "    </tr>\n",
       "    <tr>\n",
       "      <th>min</th>\n",
       "      <td>93100.000000</td>\n",
       "      <td>5.000000</td>\n",
       "      <td>0.000000</td>\n",
       "      <td>1.000000</td>\n",
       "      <td>5.0</td>\n",
       "    </tr>\n",
       "    <tr>\n",
       "      <th>25%</th>\n",
       "      <td>93230.000000</td>\n",
       "      <td>5.000000</td>\n",
       "      <td>9.250000</td>\n",
       "      <td>9.500000</td>\n",
       "      <td>5.0</td>\n",
       "    </tr>\n",
       "    <tr>\n",
       "      <th>50%</th>\n",
       "      <td>93310.000000</td>\n",
       "      <td>5.000000</td>\n",
       "      <td>27.000000</td>\n",
       "      <td>23.000000</td>\n",
       "      <td>5.0</td>\n",
       "    </tr>\n",
       "    <tr>\n",
       "      <th>75%</th>\n",
       "      <td>93400.000000</td>\n",
       "      <td>6.000000</td>\n",
       "      <td>57.750000</td>\n",
       "      <td>56.500000</td>\n",
       "      <td>5.0</td>\n",
       "    </tr>\n",
       "    <tr>\n",
       "      <th>max</th>\n",
       "      <td>93800.000000</td>\n",
       "      <td>6.000000</td>\n",
       "      <td>245.000000</td>\n",
       "      <td>231.000000</td>\n",
       "      <td>5.0</td>\n",
       "    </tr>\n",
       "  </tbody>\n",
       "</table>\n",
       "</div>"
      ],
      "text/plain": [
       "        Postal code  dayOfWeek  BlueCars_taken_sum  BlueCars_returned_sum  strata\n",
       "count     70.000000  70.000000           70.000000              70.000000    70.0\n",
       "mean   93341.285714   5.442857           45.371429              44.628571     5.0\n",
       "std      175.506897   0.500310           50.805732              50.659755     0.0\n",
       "min    93100.000000   5.000000            0.000000               1.000000     5.0\n",
       "25%    93230.000000   5.000000            9.250000               9.500000     5.0\n",
       "50%    93310.000000   5.000000           27.000000              23.000000     5.0\n",
       "75%    93400.000000   6.000000           57.750000              56.500000     5.0\n",
       "max    93800.000000   6.000000          245.000000             231.000000     5.0"
      ]
     },
     "execution_count": 247,
     "metadata": {},
     "output_type": "execute_result"
    }
   ],
   "source": [
    "df_bc_sample_ssd.describe()"
   ]
  },
  {
   "cell_type": "code",
   "execution_count": 248,
   "metadata": {},
   "outputs": [
    {
     "data": {
      "text/html": [
       "<div>\n",
       "<style>\n",
       "    .dataframe thead tr:only-child th {\n",
       "        text-align: right;\n",
       "    }\n",
       "\n",
       "    .dataframe thead th {\n",
       "        text-align: left;\n",
       "    }\n",
       "\n",
       "    .dataframe tbody tr th {\n",
       "        vertical-align: top;\n",
       "    }\n",
       "</style>\n",
       "<table border=\"1\" class=\"dataframe\">\n",
       "  <thead>\n",
       "    <tr style=\"text-align: right;\">\n",
       "      <th></th>\n",
       "      <th>Postal code</th>\n",
       "      <th>dayOfWeek</th>\n",
       "      <th>BlueCars_taken_sum</th>\n",
       "      <th>BlueCars_returned_sum</th>\n",
       "      <th>strata</th>\n",
       "    </tr>\n",
       "  </thead>\n",
       "  <tbody>\n",
       "    <tr>\n",
       "      <th>count</th>\n",
       "      <td>98.000000</td>\n",
       "      <td>98.000000</td>\n",
       "      <td>98.000000</td>\n",
       "      <td>98.000000</td>\n",
       "      <td>98.0</td>\n",
       "    </tr>\n",
       "    <tr>\n",
       "      <th>mean</th>\n",
       "      <td>75021.030612</td>\n",
       "      <td>5.479592</td>\n",
       "      <td>451.234694</td>\n",
       "      <td>453.173469</td>\n",
       "      <td>1.0</td>\n",
       "    </tr>\n",
       "    <tr>\n",
       "      <th>std</th>\n",
       "      <td>32.070301</td>\n",
       "      <td>0.502152</td>\n",
       "      <td>283.564019</td>\n",
       "      <td>283.856324</td>\n",
       "      <td>0.0</td>\n",
       "    </tr>\n",
       "    <tr>\n",
       "      <th>min</th>\n",
       "      <td>75001.000000</td>\n",
       "      <td>5.000000</td>\n",
       "      <td>9.000000</td>\n",
       "      <td>9.000000</td>\n",
       "      <td>1.0</td>\n",
       "    </tr>\n",
       "    <tr>\n",
       "      <th>25%</th>\n",
       "      <td>75006.000000</td>\n",
       "      <td>5.000000</td>\n",
       "      <td>249.500000</td>\n",
       "      <td>254.500000</td>\n",
       "      <td>1.0</td>\n",
       "    </tr>\n",
       "    <tr>\n",
       "      <th>50%</th>\n",
       "      <td>75012.000000</td>\n",
       "      <td>5.000000</td>\n",
       "      <td>417.000000</td>\n",
       "      <td>420.500000</td>\n",
       "      <td>1.0</td>\n",
       "    </tr>\n",
       "    <tr>\n",
       "      <th>75%</th>\n",
       "      <td>75018.000000</td>\n",
       "      <td>6.000000</td>\n",
       "      <td>648.000000</td>\n",
       "      <td>642.750000</td>\n",
       "      <td>1.0</td>\n",
       "    </tr>\n",
       "    <tr>\n",
       "      <th>max</th>\n",
       "      <td>75116.000000</td>\n",
       "      <td>6.000000</td>\n",
       "      <td>1186.000000</td>\n",
       "      <td>1142.000000</td>\n",
       "      <td>1.0</td>\n",
       "    </tr>\n",
       "  </tbody>\n",
       "</table>\n",
       "</div>"
      ],
      "text/plain": [
       "        Postal code  dayOfWeek  BlueCars_taken_sum  BlueCars_returned_sum  strata\n",
       "count     98.000000  98.000000           98.000000              98.000000    98.0\n",
       "mean   75021.030612   5.479592          451.234694             453.173469     1.0\n",
       "std       32.070301   0.502152          283.564019             283.856324     0.0\n",
       "min    75001.000000   5.000000            9.000000               9.000000     1.0\n",
       "25%    75006.000000   5.000000          249.500000             254.500000     1.0\n",
       "50%    75012.000000   5.000000          417.000000             420.500000     1.0\n",
       "75%    75018.000000   6.000000          648.000000             642.750000     1.0\n",
       "max    75116.000000   6.000000         1186.000000            1142.000000     1.0"
      ]
     },
     "execution_count": 248,
     "metadata": {},
     "output_type": "execute_result"
    }
   ],
   "source": [
    "df_bc_sample_paris.describe()"
   ]
  },
  {
   "cell_type": "markdown",
   "metadata": {
    "slideshow": {
     "slide_type": "slide"
    }
   },
   "source": [
    "## Hypothesis Testing"
   ]
  },
  {
   "cell_type": "markdown",
   "metadata": {},
   "source": [
    "#### a) Hypothesis"
   ]
  },
  {
   "cell_type": "markdown",
   "metadata": {},
   "source": [
    "#### Null Hypothesis :\n",
    "Average number of cars returned in Paris over weekends is same as those returned in Seine Saint Denis.\n",
    "\n",
    "#### Alternative Hypothesis: \n",
    "Average number of cars returned in Paris over weekends is not the same as those returned in Seine Saint Denis.\n",
    "\n",
    "Ho :  μ of Paris = μ of Seine Saint Denis\n",
    "\n",
    "Ha :  μ of Paris ≠ μ of Seine Saint Denis\n",
    "\n",
    "So, the test is for two independent samples similar to what is specified here http://sphweb.bumc.bu.edu/otlt/MPH-Modules/BS/BS704_HypothesisTest-Means-Proportions/BS704_HypothesisTest-Means-Proportions6.html\n"
   ]
  },
  {
   "cell_type": "markdown",
   "metadata": {},
   "source": [
    "#### b) Significance Level"
   ]
  },
  {
   "cell_type": "markdown",
   "metadata": {},
   "source": [
    "Significance level of to validate the hypothesis above is 0.05 "
   ]
  },
  {
   "cell_type": "markdown",
   "metadata": {},
   "source": [
    "#### c) Test Statistic"
   ]
  },
  {
   "cell_type": "code",
   "execution_count": 249,
   "metadata": {},
   "outputs": [
    {
     "name": "stdout",
     "output_type": "stream",
     "text": [
      "n1 = Paris:  (70, 7)\n",
      "n2 = Seine-Saint-Denis (98, 7)\n"
     ]
    }
   ],
   "source": [
    "print(\"n1 = Paris: \",df_bc_sample_ssd.shape)\n",
    "print(\"n2 = Seine-Saint-Denis\",df_bc_sample_paris.shape)"
   ]
  },
  {
   "cell_type": "code",
   "execution_count": 250,
   "metadata": {},
   "outputs": [
    {
     "data": {
      "image/png": "[encoded data removed]",
      "text/plain": [
       "<matplotlib.figure.Figure at 0x7fcb24f90ba8>"
      ]
     },
     "metadata": {},
     "output_type": "display_data"
    }
   ],
   "source": [
    "#Paris Distribution\n",
    "df_bc_sample_paris['BlueCars_taken_sum'].hist()\n",
    "plt.show()"
   ]
  },
  {
   "attachments": {
    "image.png": {
     "image/png": "[encoded data removed]"
    }
   },
   "cell_type": "markdown",
   "metadata": {},
   "source": [
    "Conclusion:\n",
    "\n",
    "if n1 > 30 and n2 > 30\n",
    "![image.png](attachment:image.png)\n",
    "\n",
    "if n1 < 30 or n2 < 30\n",
    "![image.png](attachment:image.png) where df =n1+n2-2.\n",
    "\n",
    "Population is greater than 30 so Z statistic to be used"
   ]
  },
  {
   "cell_type": "markdown",
   "metadata": {},
   "source": [
    "#### d) Z- score and P-Value Calculation"
   ]
  },
  {
   "cell_type": "code",
   "execution_count": 251,
   "metadata": {},
   "outputs": [
    {
     "name": "stdout",
     "output_type": "stream",
     "text": [
      "2.7166660130853144e-32\n",
      "Z score 11.830454560103707  P value  2.7166660130853144e-32\n",
      "Hypothesis: Null:  mu for Paris is equal to Seine-Saint-Denis\n",
      "Alternate: mu for Paris is not equal to Seine-Saint-Denis  Alpha  0.05\n",
      "Significance Level / Alpha is  0.05\n",
      "Paris Mean:  451  SSD Mean : 45\n",
      "x_bar  451 ssd_n 70 paris_sigma  282.1135536688761  ssd_sigma  50.44152808056116\n",
      "Z score is 11.830454560103707 P value is 2.7166660130853144e-32\n",
      "Reject the null hypothesis and conclude that the effect is statistically significant\n"
     ]
    }
   ],
   "source": [
    "def calculate_zscore(sample1, sample2):\n",
    "    ztest ,pval1 = stests.ztest(sample1, x2=sample2, value=0,alternative='two-sided')\n",
    "    print(float(pval1))\n",
    "    return (ztest ,pval1)\n",
    "    \n",
    "def hypothesis_eval(p_value,alpha):\n",
    "  #P-value <= significance level (a) => Reject your null hypothesis in favor of your alternative hypothesis.  Your result is statistically significant.\n",
    "  if p_value < alpha:\n",
    "    result = \"Reject the null hypothesis and conclude that the effect is statistically significant\"\n",
    "  else:\n",
    "    #P-value > significance level (a) => Fail to reject your null hypothesis.  Your result is not statistically significant.\n",
    "    result = \"Fail to reject the null hypothesis\"\n",
    "  return result\n",
    "\n",
    "def initialize_variables():\n",
    "  HoP = 'mu for Paris is equal to Seine-Saint-Denis'\n",
    "  HaP = 'mu for Paris is not equal to Seine-Saint-Denis'\n",
    "  paris_bar = get_mean(df_bc_sample_paris['BlueCars_taken_sum']) # Paris Mean\n",
    "  ssd_bar = get_mean(df_bc_sample_ssd['BlueCars_taken_sum']) # SSD Mean \n",
    "  paris_n =df_bc_sample_paris.shape[0]   #n1                          \n",
    "  ssd_n =df_bc_sample_ssd.shape[0]  #n2\n",
    "  paris_sigma = np.std(df_bc_sample_paris['BlueCars_taken_sum']) #Standard Deviation of paris\n",
    "  ssd_sigma = np.std(df_bc_sample_ssd['BlueCars_taken_sum']) #Standard Deviation of ssd\n",
    "  pop_sigma = 0\n",
    "  alpha = 0.05\n",
    "  return (HoP,HaP,paris_bar,ssd_bar, paris_n,ssd_n,paris_sigma,ssd_sigma,alpha)\n",
    "  \n",
    "#Function to calculate all\n",
    "def calculate_all():\n",
    "  HoP,HaP, x1bar,x2bar, paris_n,ssd_n,paris_sigma,ssd_sigma,alpha = initialize_variables()\n",
    "  z_score , p_value = calculate_zscore(df_bc_sample_paris['BlueCars_taken_sum']\n",
    "                                      ,df_bc_sample_ssd['BlueCars_taken_sum'])\n",
    "  print(\"Z score\" , z_score, \" P value \", p_value )\n",
    "  result = hypothesis_eval(p_value,alpha)\n",
    "  print(\"Hypothesis: Null: \",HoP)\n",
    "  print(\"Alternate:\",HaP, ' Alpha ',alpha)\n",
    "  print(\"Significance Level / Alpha is \",alpha)\n",
    "  print(\"Paris Mean: \",x1bar, \" SSD Mean :\",x2bar )\n",
    "  print('x_bar ', x1bar,  'ssd_n',ssd_n,'paris_sigma ',paris_sigma,' ssd_sigma ',ssd_sigma)\n",
    "  print(\"Z score is\", z_score,\"P value is\", p_value)\n",
    "  print(result)\n",
    "\n",
    "calculate_all()"
   ]
  },
  {
   "cell_type": "markdown",
   "metadata": {},
   "source": [
    "Above calculation has Z score being too high which is likely to result to erroneous conclusion.\n",
    "The z score is high because of outliers. Therebeing, will drop the outliers then re-calculate."
   ]
  },
  {
   "cell_type": "markdown",
   "metadata": {},
   "source": [
    "### Dropping outliers"
   ]
  },
  {
   "cell_type": "markdown",
   "metadata": {},
   "source": [
    "a) Paris Dataset"
   ]
  },
  {
   "cell_type": "code",
   "execution_count": 252,
   "metadata": {},
   "outputs": [],
   "source": [
    "#------------------------------------------------------------------------------\n",
    "#------------------------------------------------------------------------------\n",
    "# accept a dataframe, remove outliers, return cleaned data in a new dataframe\n",
    "# see http://www.itl.nist.gov/div898/handbook/prc/section1/prc16.htm\n",
    "#------------------------------------------------------------------------------\n",
    "def remove_outlier(df_in, col_name):\n",
    "    q1 = df_in[col_name].quantile(0.25)\n",
    "    q3 = df_in[col_name].quantile(0.75)\n",
    "    iqr = q3-q1 #Interquartile range\n",
    "    fence_low  = q1-1.5*iqr\n",
    "    fence_high = q3+1.5*iqr\n",
    "    df_out = df_in.loc[(df_in[col_name] > fence_low) & (df_in[col_name] < fence_high)]\n",
    "    return df_out"
   ]
  },
  {
   "cell_type": "code",
   "execution_count": 253,
   "metadata": {},
   "outputs": [],
   "source": [
    "#Sample with no outliers\n",
    "df_out = remove_outlier(df_bc_strat,'BlueCars_taken_sum')\n",
    "#SSD sample\n",
    "df_out_out_ssd = df_out[ (df_out['strata']==5) & (df_out['day_type']=='weekend')]\n",
    "df_out_out_ssd = df_out_out_ssd.copy()\n",
    "#Paris Sample\n",
    "df_out_out_paris = df_out[ (df_out['strata']==1) & (df_out['day_type']=='weekend')]\n",
    "df_out_out_paris = df_out_out_paris.copy()"
   ]
  },
  {
   "cell_type": "code",
   "execution_count": 254,
   "metadata": {},
   "outputs": [
    {
     "data": {
      "text/plain": [
       "(70, 7)"
      ]
     },
     "execution_count": 254,
     "metadata": {},
     "output_type": "execute_result"
    }
   ],
   "source": [
    "df_bc_sample_ssd.shape"
   ]
  },
  {
   "cell_type": "code",
   "execution_count": 255,
   "metadata": {},
   "outputs": [
    {
     "name": "stdout",
     "output_type": "stream",
     "text": [
      "1.527956353696186e-11\n",
      "Z score -6.745219706749452  P value  1.527956353696186e-11\n",
      "Hypothesis: Null:  mu for Paris is equal to Seine-Saint-Denis\n",
      "Alternate: mu for Paris is not equal to Seine-Saint-Denis  Alpha  0.05\n",
      "Significance Level / Alpha is  0.05\n",
      "Paris Mean:  451  SSD Mean : 45\n",
      "x_bar  451 ssd_n 35 paris_sigma  50.44152808056116  ssd_sigma  114.60798846680873\n",
      "Z score is -6.745219706749452 P value is 1.527956353696186e-11\n",
      "Reject the null hypothesis and conclude that the effect is statistically significant\n"
     ]
    }
   ],
   "source": [
    "#Calculate z score and pvalue\n",
    "def initialize_variables():\n",
    "  HoP = 'mu for Paris is equal to Seine-Saint-Denis'\n",
    "  HaP = 'mu for Paris is not equal to Seine-Saint-Denis'\n",
    "  paris_bar = get_mean(df_bc_sample_paris['BlueCars_taken_sum']) # Paris Mean\n",
    "  ssd_bar = get_mean(df_bc_sample_ssd['BlueCars_taken_sum']) # SSD Mean \n",
    "  paris_n =df_out_out_ssd.shape[0]   #n1                          \n",
    "  ssd_n =df_out_out_paris.shape[0]  #n2\n",
    "  paris_sigma = np.std(df_out_out_ssd['BlueCars_taken_sum']) #Standard Deviation of paris\n",
    "  ssd_sigma = np.std(df_out_out_paris['BlueCars_taken_sum']) #Standard Deviation of ssd\n",
    "  pop_sigma = 0\n",
    "  alpha = 0.05\n",
    "  return (HoP,HaP,paris_bar,ssd_bar, paris_n,ssd_n,paris_sigma,ssd_sigma,alpha)\n",
    "  \n",
    "#Function to calculate all\n",
    "def calculate_all():\n",
    "  HoP,HaP, x1bar,x2bar, paris_n,ssd_n,paris_sigma,ssd_sigma,alpha = initialize_variables()\n",
    "  z_score , p_value = calculate_zscore(df_out_out_ssd['BlueCars_taken_sum']\n",
    "                                      ,df_out_out_paris['BlueCars_taken_sum'])\n",
    "  print(\"Z score\" , z_score, \" P value \", p_value )\n",
    "  result = hypothesis_eval(p_value,alpha)\n",
    "  print(\"Hypothesis: Null: \",HoP)\n",
    "  print(\"Alternate:\",HaP, ' Alpha ',alpha)\n",
    "  print(\"Significance Level / Alpha is \",alpha)\n",
    "  print(\"Paris Mean: \",x1bar, \" SSD Mean :\",x2bar )\n",
    "  print('x_bar ', x1bar,  'ssd_n',ssd_n,'paris_sigma ',paris_sigma,' ssd_sigma ',ssd_sigma)\n",
    "  print(\"Z score is\", z_score,\"P value is\", p_value)\n",
    "  print(result)\n",
    "\n",
    "calculate_all()"
   ]
  },
  {
   "cell_type": "markdown",
   "metadata": {
    "slideshow": {
     "slide_type": "slide"
    }
   },
   "source": [
    "## Summary"
   ]
  },
  {
   "cell_type": "markdown",
   "metadata": {},
   "source": [
    "Outcome: The Null that mean of paris is same as mean of Seine-Saint-Denis is rejected with a P-Value of 1.527956353696186e-11.\n",
    "\n",
    "The average daily returned cars in Paris is 465 against that of Seine-Saint-Denisof 41.\n",
    "\n",
    "Notably, this is after dropping of outliers. The outliers were dropped as data was not normally distributed which causes failure in usage of z test. It's proposed a further test mechanism is explored which includes the outliers. Dropping of may result to Type 1 error.\n"
   ]
  }
 ],
 "metadata": {
  "kernelspec": {
   "display_name": "Python 3",
   "language": "python",
   "name": "python3"
  },
  "language_info": {
   "codemirror_mode": {
    "name": "ipython",
    "version": 3
   },
   "file_extension": ".py",
   "mimetype": "text/x-python",
   "name": "python",
   "nbconvert_exporter": "python",
   "pygments_lexer": "ipython3",
   "version": "3.6.3"
  }
 },
 "nbformat": 4,
 "nbformat_minor": 2
}
